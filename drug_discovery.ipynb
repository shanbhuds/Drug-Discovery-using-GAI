{
 "cells": [
  {
   "cell_type": "code",
   "execution_count": 1,
   "id": "4767c6a3-edf7-4cfa-a9fd-dac7ea258e91",
   "metadata": {},
   "outputs": [],
   "source": [
    "import numpy as np"
   ]
  },
  {
   "cell_type": "code",
   "execution_count": 2,
   "id": "bbec0ea7-e533-47dd-b322-119c67ce45d6",
   "metadata": {},
   "outputs": [],
   "source": [
    "import pandas as pd"
   ]
  },
  {
   "cell_type": "code",
   "execution_count": 3,
   "id": "66e41783-cb9b-41f4-8a10-671eb2dca160",
   "metadata": {},
   "outputs": [],
   "source": [
    "#train = pd.read_csv(\"C:\\\\Users\\\\megpamid\\\\Downloads\\\\250k_rndm_zinc_drugs_clean_3.csv\\\\drug_dataset.csv\")\n",
    "\n",
    "train = pd.read_csv(\"C:\\\\Users\\\\nagkiran3\\\\Downloads\\\\Working\\\\Drug Discovery using GAI\\\\data\\\\drug_dataset.csv\")"
   ]
  },
  {
   "cell_type": "code",
   "execution_count": 4,
   "id": "c4e17843-c7e3-480a-9ac4-310ccc6bff6d",
   "metadata": {},
   "outputs": [
    {
     "data": {
      "text/html": [
       "<div>\n",
       "<style scoped>\n",
       "    .dataframe tbody tr th:only-of-type {\n",
       "        vertical-align: middle;\n",
       "    }\n",
       "\n",
       "    .dataframe tbody tr th {\n",
       "        vertical-align: top;\n",
       "    }\n",
       "\n",
       "    .dataframe thead th {\n",
       "        text-align: right;\n",
       "    }\n",
       "</style>\n",
       "<table border=\"1\" class=\"dataframe\">\n",
       "  <thead>\n",
       "    <tr style=\"text-align: right;\">\n",
       "      <th></th>\n",
       "      <th>smiles</th>\n",
       "      <th>logP</th>\n",
       "      <th>qed</th>\n",
       "      <th>SAS</th>\n",
       "    </tr>\n",
       "  </thead>\n",
       "  <tbody>\n",
       "    <tr>\n",
       "      <th>0</th>\n",
       "      <td>CC(C)(C)c1ccc2occ(CC(=O)Nc3ccccc3F)c2c1\\n</td>\n",
       "      <td>5.05060</td>\n",
       "      <td>0.702012</td>\n",
       "      <td>2.084095</td>\n",
       "    </tr>\n",
       "    <tr>\n",
       "      <th>1</th>\n",
       "      <td>C[C@@H]1CC(Nc2cncc(-c3nncn3C)c2)C[C@@H](C)C1\\n</td>\n",
       "      <td>3.11370</td>\n",
       "      <td>0.928975</td>\n",
       "      <td>3.432004</td>\n",
       "    </tr>\n",
       "    <tr>\n",
       "      <th>2</th>\n",
       "      <td>N#Cc1ccc(-c2ccc(O[C@@H](C(=O)N3CCCC3)c3ccccc3)...</td>\n",
       "      <td>4.96778</td>\n",
       "      <td>0.599682</td>\n",
       "      <td>2.470633</td>\n",
       "    </tr>\n",
       "    <tr>\n",
       "      <th>3</th>\n",
       "      <td>CCOC(=O)[C@@H]1CCCN(C(=O)c2nc(-c3ccc(C)cc3)n3c...</td>\n",
       "      <td>4.00022</td>\n",
       "      <td>0.690944</td>\n",
       "      <td>2.822753</td>\n",
       "    </tr>\n",
       "    <tr>\n",
       "      <th>4</th>\n",
       "      <td>N#CC1=C(SCC(=O)Nc2cccc(Cl)c2)N=C([O-])[C@H](C#...</td>\n",
       "      <td>3.60956</td>\n",
       "      <td>0.789027</td>\n",
       "      <td>4.035182</td>\n",
       "    </tr>\n",
       "    <tr>\n",
       "      <th>...</th>\n",
       "      <td>...</td>\n",
       "      <td>...</td>\n",
       "      <td>...</td>\n",
       "      <td>...</td>\n",
       "    </tr>\n",
       "    <tr>\n",
       "      <th>249450</th>\n",
       "      <td>CC1(C)CC[C@H](CNC(=O)Cn2ncc3ccccc3c2=O)c2ccccc...</td>\n",
       "      <td>3.36790</td>\n",
       "      <td>0.745901</td>\n",
       "      <td>2.900726</td>\n",
       "    </tr>\n",
       "    <tr>\n",
       "      <th>249451</th>\n",
       "      <td>Cn1ccnc1C(=O)c1ccc(NC(=O)C2CCN(C(=O)C(C)(C)C)C...</td>\n",
       "      <td>2.87430</td>\n",
       "      <td>0.799426</td>\n",
       "      <td>2.326627</td>\n",
       "    </tr>\n",
       "    <tr>\n",
       "      <th>249452</th>\n",
       "      <td>Cc1ccc(NC(=O)C(=O)N(C)Cc2ccccc2)c(C)c1\\n</td>\n",
       "      <td>2.90054</td>\n",
       "      <td>0.878086</td>\n",
       "      <td>1.840642</td>\n",
       "    </tr>\n",
       "    <tr>\n",
       "      <th>249453</th>\n",
       "      <td>Cc1cc(C(=O)Nc2ccc(OCC(N)=O)cc2)c(C)n1C1CC1\\n</td>\n",
       "      <td>2.55624</td>\n",
       "      <td>0.852917</td>\n",
       "      <td>2.024638</td>\n",
       "    </tr>\n",
       "    <tr>\n",
       "      <th>249454</th>\n",
       "      <td>O=C(CC(c1ccccc1)c1ccccc1)N1CCN(S(=O)(=O)c2cccc...</td>\n",
       "      <td>3.64990</td>\n",
       "      <td>0.370287</td>\n",
       "      <td>2.214249</td>\n",
       "    </tr>\n",
       "  </tbody>\n",
       "</table>\n",
       "<p>249455 rows × 4 columns</p>\n",
       "</div>"
      ],
      "text/plain": [
       "                                                   smiles     logP       qed  \\\n",
       "0               CC(C)(C)c1ccc2occ(CC(=O)Nc3ccccc3F)c2c1\\n  5.05060  0.702012   \n",
       "1          C[C@@H]1CC(Nc2cncc(-c3nncn3C)c2)C[C@@H](C)C1\\n  3.11370  0.928975   \n",
       "2       N#Cc1ccc(-c2ccc(O[C@@H](C(=O)N3CCCC3)c3ccccc3)...  4.96778  0.599682   \n",
       "3       CCOC(=O)[C@@H]1CCCN(C(=O)c2nc(-c3ccc(C)cc3)n3c...  4.00022  0.690944   \n",
       "4       N#CC1=C(SCC(=O)Nc2cccc(Cl)c2)N=C([O-])[C@H](C#...  3.60956  0.789027   \n",
       "...                                                   ...      ...       ...   \n",
       "249450  CC1(C)CC[C@H](CNC(=O)Cn2ncc3ccccc3c2=O)c2ccccc...  3.36790  0.745901   \n",
       "249451  Cn1ccnc1C(=O)c1ccc(NC(=O)C2CCN(C(=O)C(C)(C)C)C...  2.87430  0.799426   \n",
       "249452           Cc1ccc(NC(=O)C(=O)N(C)Cc2ccccc2)c(C)c1\\n  2.90054  0.878086   \n",
       "249453       Cc1cc(C(=O)Nc2ccc(OCC(N)=O)cc2)c(C)n1C1CC1\\n  2.55624  0.852917   \n",
       "249454  O=C(CC(c1ccccc1)c1ccccc1)N1CCN(S(=O)(=O)c2cccc...  3.64990  0.370287   \n",
       "\n",
       "             SAS  \n",
       "0       2.084095  \n",
       "1       3.432004  \n",
       "2       2.470633  \n",
       "3       2.822753  \n",
       "4       4.035182  \n",
       "...          ...  \n",
       "249450  2.900726  \n",
       "249451  2.326627  \n",
       "249452  1.840642  \n",
       "249453  2.024638  \n",
       "249454  2.214249  \n",
       "\n",
       "[249455 rows x 4 columns]"
      ]
     },
     "execution_count": 4,
     "metadata": {},
     "output_type": "execute_result"
    }
   ],
   "source": [
    "train                                                                       "
   ]
  },
  {
   "cell_type": "code",
   "execution_count": 5,
   "id": "22fad642-a465-4e81-a79d-5d416e11e751",
   "metadata": {},
   "outputs": [],
   "source": [
    "train.dropna(inplace=True)          "
   ]
  },
  {
   "cell_type": "code",
   "execution_count": 6,
   "id": "864e3a1f-08bb-4cfd-9bdc-d92135ad83e0",
   "metadata": {},
   "outputs": [],
   "source": [
    "num_input_features = train.shape[1]  # The number of columns in the DataFrame"
   ]
  },
  {
   "cell_type": "code",
   "execution_count": 7,
   "id": "7ab6cead-8553-40fe-99ae-dc34b48eecc0",
   "metadata": {},
   "outputs": [
    {
     "name": "stdout",
     "output_type": "stream",
     "text": [
      "Number of input features: 4\n"
     ]
    }
   ],
   "source": [
    "print(\"Number of input features:\", num_input_features)"
   ]
  },
  {
   "cell_type": "code",
   "execution_count": 5,
   "id": "b576e629-7dc9-4429-ada4-f69859dd3200",
   "metadata": {},
   "outputs": [],
   "source": [
    "from sklearn.model_selection import train_test_split"
   ]
  },
  {
   "cell_type": "code",
   "execution_count": 6,
   "id": "c5566135-1be5-4889-b1c6-4c66fa4e6943",
   "metadata": {},
   "outputs": [],
   "source": [
    "train_data, val_data = train_test_split(train, test_size=0.2, random_state=42)"
   ]
  },
  {
   "cell_type": "code",
   "execution_count": 10,
   "id": "d4bd2ea7-f55a-4f77-aa41-193d5b8c2376",
   "metadata": {},
   "outputs": [
    {
     "name": "stdout",
     "output_type": "stream",
     "text": [
      "Could not fetch URL https://pypi.org/simple/tensorflow/: There was a problem confirming the ssl certificate: HTTPSConnectionPool(host='pypi.org', port=443): Max retries exceeded with url: /simple/tensorflow/ (Caused by SSLError(SSLError(1, '[SSL: WRONG_VERSION_NUMBER] wrong version number (_ssl.c:1006)'))) - skipping\n"
     ]
    },
    {
     "name": "stderr",
     "output_type": "stream",
     "text": [
      "WARNING: Retrying (Retry(total=4, connect=None, read=None, redirect=None, status=None)) after connection broken by 'SSLError(SSLError(1, '[SSL: WRONG_VERSION_NUMBER] wrong version number (_ssl.c:1006)'))': /simple/tensorflow/\n",
      "WARNING: Retrying (Retry(total=3, connect=None, read=None, redirect=None, status=None)) after connection broken by 'SSLError(SSLError(1, '[SSL: WRONG_VERSION_NUMBER] wrong version number (_ssl.c:1006)'))': /simple/tensorflow/\n",
      "WARNING: Retrying (Retry(total=2, connect=None, read=None, redirect=None, status=None)) after connection broken by 'SSLError(SSLError(1, '[SSL: WRONG_VERSION_NUMBER] wrong version number (_ssl.c:1006)'))': /simple/tensorflow/\n",
      "WARNING: Retrying (Retry(total=1, connect=None, read=None, redirect=None, status=None)) after connection broken by 'SSLError(SSLError(1, '[SSL: WRONG_VERSION_NUMBER] wrong version number (_ssl.c:1006)'))': /simple/tensorflow/\n",
      "WARNING: Retrying (Retry(total=0, connect=None, read=None, redirect=None, status=None)) after connection broken by 'SSLError(SSLError(1, '[SSL: WRONG_VERSION_NUMBER] wrong version number (_ssl.c:1006)'))': /simple/tensorflow/\n",
      "ERROR: Could not find a version that satisfies the requirement tensorflow (from versions: none)\n",
      "ERROR: No matching distribution found for tensorflow\n"
     ]
    }
   ],
   "source": [
    "!pip install tensorflow\n",
    "#import tensorflow as tf"
   ]
  },
  {
   "cell_type": "code",
   "execution_count": 11,
   "id": "6eb4051e",
   "metadata": {},
   "outputs": [
    {
     "name": "stdout",
     "output_type": "stream",
     "text": [
      "Requirement already satisfied: pip in c:\\users\\nagkiran3\\appdata\\local\\anaconda3_ml\\lib\\site-packages (23.2.1)\n",
      "Could not fetch URL https://pypi.org/simple/pip/: There was a problem confirming the ssl certificate: HTTPSConnectionPool(host='pypi.org', port=443): Max retries exceeded with url: /simple/pip/ (Caused by SSLError(SSLError(1, '[SSL: WRONG_VERSION_NUMBER] wrong version number (_ssl.c:1006)'))) - skipping\n",
      "Note: you may need to restart the kernel to use updated packages.\n"
     ]
    },
    {
     "name": "stderr",
     "output_type": "stream",
     "text": [
      "WARNING: Retrying (Retry(total=4, connect=None, read=None, redirect=None, status=None)) after connection broken by 'SSLError(SSLError(1, '[SSL: WRONG_VERSION_NUMBER] wrong version number (_ssl.c:1006)'))': /simple/pip/\n",
      "WARNING: Retrying (Retry(total=3, connect=None, read=None, redirect=None, status=None)) after connection broken by 'SSLError(SSLError(1, '[SSL: WRONG_VERSION_NUMBER] wrong version number (_ssl.c:1006)'))': /simple/pip/\n",
      "WARNING: Retrying (Retry(total=2, connect=None, read=None, redirect=None, status=None)) after connection broken by 'SSLError(SSLError(1, '[SSL: WRONG_VERSION_NUMBER] wrong version number (_ssl.c:1006)'))': /simple/pip/\n",
      "WARNING: Retrying (Retry(total=1, connect=None, read=None, redirect=None, status=None)) after connection broken by 'SSLError(SSLError(1, '[SSL: WRONG_VERSION_NUMBER] wrong version number (_ssl.c:1006)'))': /simple/pip/\n",
      "WARNING: Retrying (Retry(total=0, connect=None, read=None, redirect=None, status=None)) after connection broken by 'SSLError(SSLError(1, '[SSL: WRONG_VERSION_NUMBER] wrong version number (_ssl.c:1006)'))': /simple/pip/\n"
     ]
    }
   ],
   "source": [
    "pip install --upgrade pip --trusted-host pypi.org --trusted-host files.pythonhosted.org\n"
   ]
  },
  {
   "cell_type": "code",
   "execution_count": 35,
   "id": "3ccd9a6b-1866-4bdc-bd88-7b9addcd8c96",
   "metadata": {},
   "outputs": [],
   "source": [
    "latent_dim = 64"
   ]
  },
  {
   "cell_type": "code",
   "execution_count": 36,
   "id": "32e8f198-620e-405a-9f1c-43a503b72792",
   "metadata": {},
   "outputs": [],
   "source": [
    "import keras as keras"
   ]
  },
  {
   "cell_type": "code",
   "execution_count": 37,
   "id": "e437fce0-2194-4107-b116-3ce21a939ccb",
   "metadata": {},
   "outputs": [],
   "source": [
    "from keras.models import Sequential"
   ]
  },
  {
   "cell_type": "code",
   "execution_count": 38,
   "id": "648a5180-bd35-40a5-a772-fcd088a9aa4a",
   "metadata": {},
   "outputs": [],
   "source": [
    "from keras.layers import Dense, Dropout, Flatten"
   ]
  },
  {
   "cell_type": "code",
   "execution_count": 39,
   "id": "76902aba-53f9-4d6f-8f31-6ebf2484bc0e",
   "metadata": {},
   "outputs": [],
   "source": [
    "input_shape = 4"
   ]
  },
  {
   "cell_type": "code",
   "execution_count": 40,
   "id": "48dbdf2c-6e00-4433-85d4-a642dd4feab7",
   "metadata": {},
   "outputs": [],
   "source": [
    "# Define the encoder\n",
    "encoder_inputs = tf.keras.layers.Input(shape=(input_shape,))"
   ]
  },
  {
   "cell_type": "code",
   "execution_count": 41,
   "id": "1669c9dd-02aa-40b3-aba8-c12afc13a31a",
   "metadata": {},
   "outputs": [],
   "source": [
    "# Define encoder layers\n",
    "encoder_outputs = tf.keras.layers.Dense(64, activation='relu')(encoder_inputs)"
   ]
  },
  {
   "cell_type": "code",
   "execution_count": 42,
   "id": "3f8f6a9b-5022-42ef-96ed-7d04a4c674f1",
   "metadata": {},
   "outputs": [],
   "source": [
    "z_mean = tf.keras.layers.Dense(latent_dim, name='z_mean')(encoder_outputs)"
   ]
  },
  {
   "cell_type": "code",
   "execution_count": 43,
   "id": "cc7b1908-ca47-4a27-99d9-fb51e2283814",
   "metadata": {},
   "outputs": [],
   "source": [
    "z_log_var = tf.keras.layers.Dense(latent_dim, name='z_log_var')(encoder_outputs)"
   ]
  },
  {
   "cell_type": "code",
   "execution_count": 44,
   "id": "7959e0e1-96b8-46f2-a0a3-5406fd217312",
   "metadata": {},
   "outputs": [],
   "source": [
    "# Reparameterization trick\n",
    "def sampling(args):\n",
    "    z_mean, z_log_var = args\n",
    "    batch = tf.shape(z_mean)[0]\n",
    "    dim = tf.shape(z_mean)[1]\n",
    "    epsilon = tf.keras.backend.random_normal(shape=(batch, dim))\n",
    "    return z_mean + tf.exp(0.5 * z_log_var) * epsilon\n",
    "\n",
    "z = tf.keras.layers.Lambda(sampling, name='z')([z_mean, z_log_var])"
   ]
  },
  {
   "cell_type": "code",
   "execution_count": 45,
   "id": "f9ea0c6c-42a6-4e19-995b-c4eaf89187db",
   "metadata": {},
   "outputs": [],
   "source": [
    "# Define the decoder\n",
    "decoder_inputs = tf.keras.layers.Input(shape=(latent_dim,))\n",
    "# Define decoder layers\n",
    "decoder_outputs = tf.keras.layers.Dense(input_shape, activation='sigmoid')(decoder_inputs)"
   ]
  },
  {
   "cell_type": "code",
   "execution_count": 49,
   "id": "44f838f1-00a9-4e8f-9bdd-06d335169e73",
   "metadata": {},
   "outputs": [],
   "source": [
    "decoder = tf.keras.models.Model(inputs=decoder_inputs, outputs=decoder_outputs)"
   ]
  },
  {
   "cell_type": "code",
   "execution_count": 50,
   "id": "53be50e8-1c1c-498b-b983-4222f2bebf9a",
   "metadata": {},
   "outputs": [],
   "source": [
    "encoder_decoder_outputs = decoder(z)"
   ]
  },
  {
   "cell_type": "code",
   "execution_count": 51,
   "id": "01d56f71-fd83-4ea1-b4a2-aa958515dfec",
   "metadata": {},
   "outputs": [],
   "source": [
    "# Define VAE model\n",
    "vae = tf.keras.models.Model(encoder_inputs, encoder_decoder_outputs)"
   ]
  },
  {
   "cell_type": "code",
   "execution_count": 52,
   "id": "9d7f4526-22d6-4dfa-a4ea-eb052e122279",
   "metadata": {},
   "outputs": [],
   "source": [
    "# Compile VAE model\n",
    "vae.compile(optimizer='adam', loss='mse')  # Adjust loss function as needed"
   ]
  },
  {
   "cell_type": "code",
   "execution_count": 53,
   "id": "755031ca-b0ac-4088-8c6b-54ea00a6c8e7",
   "metadata": {},
   "outputs": [
    {
     "name": "stdout",
     "output_type": "stream",
     "text": [
      "Model: \"model_5\"\n",
      "__________________________________________________________________________________________________\n",
      " Layer (type)                   Output Shape         Param #     Connected to                     \n",
      "==================================================================================================\n",
      " input_3 (InputLayer)           [(None, 4)]          0           []                               \n",
      "                                                                                                  \n",
      " dense_2 (Dense)                (None, 64)           320         ['input_3[0][0]']                \n",
      "                                                                                                  \n",
      " z_mean (Dense)                 (None, 64)           4160        ['dense_2[0][0]']                \n",
      "                                                                                                  \n",
      " z_log_var (Dense)              (None, 64)           4160        ['dense_2[0][0]']                \n",
      "                                                                                                  \n",
      " z (Lambda)                     (None, 64)           0           ['z_mean[0][0]',                 \n",
      "                                                                  'z_log_var[0][0]']              \n",
      "                                                                                                  \n",
      " model_4 (Functional)           (None, 4)            260         ['z[0][0]']                      \n",
      "                                                                                                  \n",
      "==================================================================================================\n",
      "Total params: 8,900\n",
      "Trainable params: 8,900\n",
      "Non-trainable params: 0\n",
      "__________________________________________________________________________________________________\n"
     ]
    }
   ],
   "source": [
    "# Print model summary\n",
    "vae.summary()"
   ]
  },
  {
   "cell_type": "code",
   "execution_count": null,
   "id": "e4771964-754b-45a7-9648-2fd36cfe6d37",
   "metadata": {},
   "outputs": [],
   "source": []
  }
 ],
 "metadata": {
  "kernelspec": {
   "display_name": "Python 3 (ipykernel)",
   "language": "python",
   "name": "python3"
  },
  "language_info": {
   "codemirror_mode": {
    "name": "ipython",
    "version": 3
   },
   "file_extension": ".py",
   "mimetype": "text/x-python",
   "name": "python",
   "nbconvert_exporter": "python",
   "pygments_lexer": "ipython3",
   "version": "3.11.5"
  }
 },
 "nbformat": 4,
 "nbformat_minor": 5
}
